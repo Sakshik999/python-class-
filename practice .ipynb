{
 "cells": [
  {
   "cell_type": "code",
   "execution_count": 1,
   "id": "10348639-4801-413c-bd91-c5b8f062a7de",
   "metadata": {},
   "outputs": [],
   "source": [
    "# i live in kathmandu "
   ]
  },
  {
   "cell_type": "code",
   "execution_count": 7,
   "id": "e6d9dd4e-c74c-4096-bf46-b992e8354ac6",
   "metadata": {},
   "outputs": [
    {
     "name": "stdout",
     "output_type": "stream",
     "text": [
      "type check <class 'int'>\n"
     ]
    }
   ],
   "source": [
    "a = 22 \n",
    "print (\"type check\", type (a))"
   ]
  },
  {
   "cell_type": "code",
   "execution_count": 24,
   "id": "a6e4544e-f1cc-4470-af6d-5a986abb5011",
   "metadata": {},
   "outputs": [
    {
     "ename": "SyntaxError",
     "evalue": "invalid decimal literal (787851693.py, line 1)",
     "output_type": "error",
     "traceback": [
      "\u001b[1;36m  Cell \u001b[1;32mIn[24], line 1\u001b[1;36m\u001b[0m\n\u001b[1;33m    x = 2i + 3j\u001b[0m\n\u001b[1;37m        ^\u001b[0m\n\u001b[1;31mSyntaxError\u001b[0m\u001b[1;31m:\u001b[0m invalid decimal literal\n"
     ]
    }
   ],
   "source": [
    "x = 2i + 3j\n",
    "print (\"type check\" , type (x))"
   ]
  },
  {
   "cell_type": "code",
   "execution_count": 18,
   "id": "15365056-224a-42de-8ad8-e247c67888f1",
   "metadata": {},
   "outputs": [
    {
     "name": "stdout",
     "output_type": "stream",
     "text": [
      "he is from kathmandu\n"
     ]
    }
   ],
   "source": [
    "#he is from kathmandu \n",
    "test = \"he\"\n",
    "test2 = \"is from\"\n",
    "test3 = \"kathmandu\"\n",
    "print (test , test2 , test3)"
   ]
  },
  {
   "cell_type": "code",
   "execution_count": 19,
   "id": "ce46eaf5-2114-4f49-b799-0af50616f0b3",
   "metadata": {},
   "outputs": [
    {
     "name": "stdout",
     "output_type": "stream",
     "text": [
      "1221\n"
     ]
    }
   ],
   "source": [
    "x = 555 \n",
    "y = 666\n",
    "print ( x + y)"
   ]
  },
  {
   "cell_type": "code",
   "execution_count": 20,
   "id": "c4b50217-3ef1-4b8f-8296-cc4554d2f25c",
   "metadata": {},
   "outputs": [
    {
     "name": "stdout",
     "output_type": "stream",
     "text": [
      "type check <class 'str'> <class 'str'> <class 'str'>\n"
     ]
    }
   ],
   "source": [
    "test = \"he\"\n",
    "test2 = \"is from\"\n",
    "test3 = \"kathmandu\"\n",
    "print (\"type check\", type (test) , type (test2) , type (test3))\n",
    "       "
   ]
  },
  {
   "cell_type": "code",
   "execution_count": 21,
   "id": "661c674d-7eb8-4a57-8cc0-01c657c2d675",
   "metadata": {},
   "outputs": [
    {
     "name": "stdout",
     "output_type": "stream",
     "text": [
      "he is from kathmandu\n"
     ]
    }
   ],
   "source": [
    "#string formatting \n",
    "test = \"he\"\n",
    "test2 = \"is from\"\n",
    "test3 = \"kathmandu\"\n",
    "print (f'{test} {test2} {test3}')\n"
   ]
  },
  {
   "cell_type": "code",
   "execution_count": 22,
   "id": "a19a572d-aeda-48da-979a-f1ab185ad13a",
   "metadata": {},
   "outputs": [],
   "source": [
    "#in string formatting (f') should be use \n",
    "#example: print (f' {test} {test2} {test3}')"
   ]
  },
  {
   "cell_type": "code",
   "execution_count": 23,
   "id": "d92d2759-2c94-49e0-b31e-cc3e667b297b",
   "metadata": {},
   "outputs": [
    {
     "name": "stdout",
     "output_type": "stream",
     "text": [
      " her name is arica\n"
     ]
    }
   ],
   "source": [
    "a = \"her\"\n",
    "b = \"name is\"\n",
    "c = \"arica\"\n",
    "print (f' {a} {b} {c}')"
   ]
  },
  {
   "cell_type": "code",
   "execution_count": 33,
   "id": "c02b4c66-dbeb-4274-b55c-1804c0099f6f",
   "metadata": {},
   "outputs": [
    {
     "name": "stdout",
     "output_type": "stream",
     "text": [
      "ab*cd\n"
     ]
    }
   ],
   "source": [
    "ab = \"a^2\" \n",
    "cd = \"b^5\"\n",
    "print(\"ab*cd\")"
   ]
  },
  {
   "cell_type": "code",
   "execution_count": 34,
   "id": "6297fd11-7601-41c2-b10e-08bbdca15b7d",
   "metadata": {},
   "outputs": [
    {
     "name": "stdout",
     "output_type": "stream",
     "text": [
      "and True\n"
     ]
    }
   ],
   "source": [
    "a = True  \n",
    "b = True \n",
    "print (\"and\", True and True)"
   ]
  },
  {
   "cell_type": "code",
   "execution_count": 35,
   "id": "e3de9ae0-d60b-45c7-8675-0206446d548f",
   "metadata": {},
   "outputs": [
    {
     "name": "stdout",
     "output_type": "stream",
     "text": [
      "a=b\n"
     ]
    }
   ],
   "source": [
    "a = \"will rain\" \n",
    "b = not \"rain\"\n",
    "print (\"a=b\")"
   ]
  },
  {
   "cell_type": "code",
   "execution_count": 36,
   "id": "3b639f43-97e6-4998-999d-720963284e9f",
   "metadata": {},
   "outputs": [
    {
     "name": "stdout",
     "output_type": "stream",
     "text": [
      " the weather is nice today\n"
     ]
    }
   ],
   "source": [
    "#the weather is nice today\n",
    "a = \"the\"\n",
    "b = \"weather is\"\n",
    "c = \"nice today\"\n",
    "print (f' {a} {b} {c}')"
   ]
  },
  {
   "cell_type": "code",
   "execution_count": null,
   "id": "746e9412-69d8-43c8-9bcb-90c06e2d8ef6",
   "metadata": {},
   "outputs": [],
   "source": []
  }
 ],
 "metadata": {
  "kernelspec": {
   "display_name": "Python 3 (ipykernel)",
   "language": "python",
   "name": "python3"
  },
  "language_info": {
   "codemirror_mode": {
    "name": "ipython",
    "version": 3
   },
   "file_extension": ".py",
   "mimetype": "text/x-python",
   "name": "python",
   "nbconvert_exporter": "python",
   "pygments_lexer": "ipython3",
   "version": "3.12.6"
  }
 },
 "nbformat": 4,
 "nbformat_minor": 5
}
